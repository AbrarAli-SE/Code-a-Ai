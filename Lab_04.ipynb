{
  "nbformat": 4,
  "nbformat_minor": 0,
  "metadata": {
    "colab": {
      "provenance": [],
      "gpuType": "T4",
      "authorship_tag": "ABX9TyOAZMS+9UGdPxa4x9LxgfIg",
      "include_colab_link": true
    },
    "kernelspec": {
      "name": "python3",
      "display_name": "Python 3"
    },
    "language_info": {
      "name": "python"
    },
    "accelerator": "GPU"
  },
  "cells": [
    {
      "cell_type": "markdown",
      "metadata": {
        "id": "view-in-github",
        "colab_type": "text"
      },
      "source": [
        "<a href=\"https://colab.research.google.com/github/AbrarAli-SE/Code-a-Ai/blob/main/Lab_04.ipynb\" target=\"_parent\"><img src=\"https://colab.research.google.com/assets/colab-badge.svg\" alt=\"Open In Colab\"/></a>"
      ]
    },
    {
      "cell_type": "markdown",
      "source": [
        "# Name: **Abrar Ali**\n",
        "# SAP ID: **55843**\n",
        "# lab 04"
      ],
      "metadata": {
        "id": "NZSeGkKkI1ci"
      }
    },
    {
      "cell_type": "markdown",
      "source": [
        "## Task 1: Create NumPy array, split into 3 arrays, then calculate sum of all arrays\n"
      ],
      "metadata": {
        "id": "yT32bBwyI5U-"
      }
    },
    {
      "cell_type": "code",
      "source": [
        "import numpy as np\n",
        "arr = np.array([1, 2, 3, 4, 5, 6, 7, 8, 9])\n",
        "\n",
        "split_arr = np.array_split(arr, 3)\n",
        "\n",
        "total_sum = sum(np.sum(sub_arr) for sub_arr in split_arr)\n",
        "\n",
        "print(\"Split arrays:\", split_arr)\n",
        "print(\"Total sum:\", total_sum)"
      ],
      "metadata": {
        "colab": {
          "base_uri": "https://localhost:8080/"
        },
        "id": "Td-A_E7UJBKS",
        "outputId": "c3a071f4-b52d-427c-8099-5c916ac8b92f"
      },
      "execution_count": 1,
      "outputs": [
        {
          "output_type": "stream",
          "name": "stdout",
          "text": [
            "Split arrays: [array([1, 2, 3]), array([4, 5, 6]), array([7, 8, 9])]\n",
            "Total sum: 45\n"
          ]
        }
      ]
    },
    {
      "cell_type": "markdown",
      "source": [
        "## Task 2: Extract all numbers >5 and <15 from NumPy array"
      ],
      "metadata": {
        "id": "jTO1wzesJFi2"
      }
    },
    {
      "cell_type": "code",
      "source": [
        "import numpy as np\n",
        "\n",
        "arr = np.array([2, 6, 9, 15, 20, 13, 4, 8])\n",
        "\n",
        "filtered = arr[(arr > 5) & (arr < 15)]\n",
        "\n",
        "print(\"Filtered numbers:\", filtered)"
      ],
      "metadata": {
        "colab": {
          "base_uri": "https://localhost:8080/"
        },
        "id": "sg5u_SXFI_x1",
        "outputId": "97ea24ac-3a53-4f19-fca7-5cd6dcbe8f17"
      },
      "execution_count": 2,
      "outputs": [
        {
          "output_type": "stream",
          "name": "stdout",
          "text": [
            "Filtered numbers: [ 6  9 13  8]\n"
          ]
        }
      ]
    },
    {
      "cell_type": "markdown",
      "source": [
        "## Task 3: Set operations"
      ],
      "metadata": {
        "id": "ZlMZzi7SJM0u"
      }
    },
    {
      "cell_type": "code",
      "source": [
        "set1 = {0, 2, 4, 6, 8, 10}\n",
        "set2 = set([1, 2, 3, 4, 5, 6, 7, 8, 9, 10])\n",
        "\n",
        "set2_list = list(set2)\n",
        "set2_list.pop(1)\n",
        "set2_list.pop(4)\n",
        "set2 = set(set2_list)\n",
        "\n",
        "set3 = set1.intersection(set2)\n",
        "\n",
        "print(\"Set1:\", set1)\n",
        "print(\"Modified Set2:\", set2)\n",
        "print(\"Set3 (intersection):\", set3)"
      ],
      "metadata": {
        "colab": {
          "base_uri": "https://localhost:8080/"
        },
        "id": "1q3VC0zOJRmg",
        "outputId": "baba7612-7a6d-494e-87d0-118850285815"
      },
      "execution_count": 3,
      "outputs": [
        {
          "output_type": "stream",
          "name": "stdout",
          "text": [
            "Set1: {0, 2, 4, 6, 8, 10}\n",
            "Modified Set2: {1, 3, 4, 5, 7, 8, 9, 10}\n",
            "Set3 (intersection): {8, 10, 4}\n"
          ]
        }
      ]
    },
    {
      "cell_type": "markdown",
      "source": [
        "## Task 4: Dictionary of students and update semester"
      ],
      "metadata": {
        "id": "0hoeaFOAJVcW"
      }
    },
    {
      "cell_type": "code",
      "source": [
        "students = {\n",
        "    \"SAP001\": {\"sapid\": \"SAP001\", \"name\": \"Ali\", \"age\": 20, \"semester\": \"Six\"},\n",
        "    \"SAP002\": {\"sapid\": \"SAP002\", \"name\": \"Sara\", \"age\": 21, \"semester\": \"Six\"},\n",
        "    \"SAP003\": {\"sapid\": \"SAP003\", \"name\": \"Zain\", \"age\": 22, \"semester\": \"Six\"},\n",
        "    \"SAP004\": {\"sapid\": \"SAP004\", \"name\": \"Hira\", \"age\": 23, \"semester\": \"Six\"},\n",
        "    \"SAP005\": {\"sapid\": \"SAP005\", \"name\": \"Usman\", \"age\": 24, \"semester\": \"Six\"},\n",
        "}\n",
        "\n",
        "for student in students.values():\n",
        "    student[\"semester\"] = \"Seven\"\n",
        "\n",
        "print(\"Updated student records:\")\n",
        "for sapid, record in students.items():\n",
        "    print(sapid, \":\", record)"
      ],
      "metadata": {
        "colab": {
          "base_uri": "https://localhost:8080/"
        },
        "id": "B3eQ2lgKJaK8",
        "outputId": "243f41b2-c889-403c-8be6-530bd761af8a"
      },
      "execution_count": 4,
      "outputs": [
        {
          "output_type": "stream",
          "name": "stdout",
          "text": [
            "Updated student records:\n",
            "SAP001 : {'sapid': 'SAP001', 'name': 'Ali', 'age': 20, 'semester': 'Seven'}\n",
            "SAP002 : {'sapid': 'SAP002', 'name': 'Sara', 'age': 21, 'semester': 'Seven'}\n",
            "SAP003 : {'sapid': 'SAP003', 'name': 'Zain', 'age': 22, 'semester': 'Seven'}\n",
            "SAP004 : {'sapid': 'SAP004', 'name': 'Hira', 'age': 23, 'semester': 'Seven'}\n",
            "SAP005 : {'sapid': 'SAP005', 'name': 'Usman', 'age': 24, 'semester': 'Seven'}\n"
          ]
        }
      ]
    },
    {
      "cell_type": "markdown",
      "source": [],
      "metadata": {
        "id": "gPlyi_FeJAR3"
      }
    }
  ]
}