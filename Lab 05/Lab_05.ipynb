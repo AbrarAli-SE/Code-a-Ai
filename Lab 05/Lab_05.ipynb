{
  "nbformat": 4,
  "nbformat_minor": 0,
  "metadata": {
    "colab": {
      "provenance": [],
      "gpuType": "T4",
      "authorship_tag": "ABX9TyPBv0L8rLnSC/XoMzulVzWx",
      "include_colab_link": true
    },
    "kernelspec": {
      "name": "python3",
      "display_name": "Python 3"
    },
    "language_info": {
      "name": "python"
    },
    "accelerator": "GPU"
  },
  "cells": [
    {
      "cell_type": "markdown",
      "metadata": {
        "id": "view-in-github",
        "colab_type": "text"
      },
      "source": [
        "<a href=\"https://colab.research.google.com/github/AbrarAli-SE/Code-a-Ai/blob/main/Lab_05.ipynb\" target=\"_parent\"><img src=\"https://colab.research.google.com/assets/colab-badge.svg\" alt=\"Open In Colab\"/></a>"
      ]
    },
    {
      "cell_type": "markdown",
      "source": [
        "# Name: **Abrar Ali**\n",
        "# SAP ID: **55843**\n",
        "# lab 05"
      ],
      "metadata": {
        "id": "F5VcIbmaP3yF"
      }
    },
    {
      "cell_type": "markdown",
      "source": [
        "## Lab Task 1: DFS"
      ],
      "metadata": {
        "id": "B2z4EXvPQIt4"
      }
    },
    {
      "cell_type": "code",
      "source": [
        "graph = {0: [1,2,3], 1: [0], 2: [0,3,4], 3: [0,2], 4: [2]}\n",
        "visited, order = set(), []\n",
        "\n",
        "def dfs(n):\n",
        "    visited.add(n)\n",
        "    order.append(n)\n",
        "    print(f\"[{n}] -> {graph[n]}\")\n",
        "    for nb in graph[n]:\n",
        "        if nb not in visited:\n",
        "            dfs(nb)\n",
        "\n",
        "print(\"=== DFS ===\")\n",
        "dfs(0)\n",
        "print(\"Order:\", order)"
      ],
      "metadata": {
        "colab": {
          "base_uri": "https://localhost:8080/"
        },
        "id": "-FVDueF-P3Yu",
        "outputId": "81aac6e3-7acb-412d-8674-2c63629e6764"
      },
      "execution_count": 1,
      "outputs": [
        {
          "output_type": "stream",
          "name": "stdout",
          "text": [
            "=== DFS ===\n",
            "[0] -> [1, 2, 3]\n",
            "[1] -> [0]\n",
            "[2] -> [0, 3, 4]\n",
            "[3] -> [0, 2]\n",
            "[4] -> [2]\n",
            "Order: [0, 1, 2, 3, 4]\n"
          ]
        }
      ]
    },
    {
      "cell_type": "markdown",
      "source": [
        "## Lab Task 2: BFS"
      ],
      "metadata": {
        "id": "NuDfJFHuQW2i"
      }
    },
    {
      "cell_type": "code",
      "execution_count": 2,
      "metadata": {
        "colab": {
          "base_uri": "https://localhost:8080/"
        },
        "id": "1_kNNaRAPwsO",
        "outputId": "99d74ee1-02bd-4aff-ab8d-4180648fa91e"
      },
      "outputs": [
        {
          "output_type": "stream",
          "name": "stdout",
          "text": [
            "[0] -> [1, 2, 3]\n",
            "[1] -> [0]\n",
            "[2] -> [0, 3, 4]\n",
            "[3] -> [0, 2]\n",
            "[4] -> [2]\n",
            "=== BFS ===\n",
            "Order: [0, 1, 2, 3, 4]\n"
          ]
        }
      ],
      "source": [
        "from collections import deque\n",
        "\n",
        "graph = {0: [1,2,3], 1: [0], 2: [0,3,4], 3: [0,2], 4: [2]}\n",
        "visited, queue, order = set(), deque([0]), []\n",
        "\n",
        "visited.add(0)\n",
        "while queue:\n",
        "    n = queue.popleft()\n",
        "    order.append(n)\n",
        "    print(f\"[{n}] -> {graph[n]}\")\n",
        "    for nb in graph[n]:\n",
        "        if nb not in visited:\n",
        "            visited.add(nb)\n",
        "            queue.append(nb)\n",
        "\n",
        "print(\"=== BFS ===\")\n",
        "print(\"Order:\", order)"
      ]
    }
  ]
}