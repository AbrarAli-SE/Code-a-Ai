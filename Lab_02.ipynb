{
  "nbformat": 4,
  "nbformat_minor": 0,
  "metadata": {
    "colab": {
      "provenance": [],
      "gpuType": "T4",
      "authorship_tag": "ABX9TyMBczkJTzVHG2cFERzOajc5",
      "include_colab_link": true
    },
    "kernelspec": {
      "name": "python3",
      "display_name": "Python 3"
    },
    "language_info": {
      "name": "python"
    },
    "accelerator": "GPU"
  },
  "cells": [
    {
      "cell_type": "markdown",
      "metadata": {
        "id": "view-in-github",
        "colab_type": "text"
      },
      "source": [
        "<a href=\"https://colab.research.google.com/github/AbrarAli-SE/Code-a-Ai/blob/main/Lab_02.ipynb\" target=\"_parent\"><img src=\"https://colab.research.google.com/assets/colab-badge.svg\" alt=\"Open In Colab\"/></a>"
      ]
    },
    {
      "cell_type": "code",
      "execution_count": null,
      "metadata": {
        "id": "U5nXrB9Io6Un"
      },
      "outputs": [],
      "source": []
    },
    {
      "cell_type": "markdown",
      "source": [
        "# Name: **Abrar Ali**\n",
        "# SAP ID: **55843**\n",
        "# lab 02"
      ],
      "metadata": {
        "id": "W00ssdcTqwXC"
      }
    },
    {
      "cell_type": "markdown",
      "source": [
        "## Task 1: append()"
      ],
      "metadata": {
        "id": "xuw2KBccqxia"
      }
    },
    {
      "cell_type": "code",
      "source": [
        "fruits = [\"apple\", \"banana\"]\n",
        "fruits.append(\"cherry\")\n",
        "print(fruits)\n"
      ],
      "metadata": {
        "colab": {
          "base_uri": "https://localhost:8080/"
        },
        "id": "xY2F1in3tFZf",
        "outputId": "df01be7e-b40b-43c6-8cb0-7bb82a500f6a"
      },
      "execution_count": 2,
      "outputs": [
        {
          "output_type": "stream",
          "name": "stdout",
          "text": [
            "['apple', 'banana', 'cherry']\n"
          ]
        }
      ]
    },
    {
      "cell_type": "markdown",
      "source": [
        "## Task 2: clear()\n",
        "\n"
      ],
      "metadata": {
        "id": "k1IOxM51rAu-"
      }
    },
    {
      "cell_type": "code",
      "source": [
        "fruits.clear()\n",
        "print(fruits)\n"
      ],
      "metadata": {
        "colab": {
          "base_uri": "https://localhost:8080/"
        },
        "id": "VkB6GT-WtR1y",
        "outputId": "cdd6f2d5-f93c-4498-b976-3937583fde6c"
      },
      "execution_count": 3,
      "outputs": [
        {
          "output_type": "stream",
          "name": "stdout",
          "text": [
            "[]\n"
          ]
        }
      ]
    },
    {
      "cell_type": "markdown",
      "source": [
        "## Task 3: copy()"
      ],
      "metadata": {
        "id": "WGuZxKFIrFYJ"
      }
    },
    {
      "cell_type": "code",
      "source": [
        "colors = [\"red\", \"green\", \"blue\"]\n",
        "copied_colors = colors.copy()\n",
        "print(copied_colors)\n"
      ],
      "metadata": {
        "colab": {
          "base_uri": "https://localhost:8080/"
        },
        "id": "I5ifbjirtUpn",
        "outputId": "3224679a-43f4-4e7b-c0df-624fe843b95e"
      },
      "execution_count": 4,
      "outputs": [
        {
          "output_type": "stream",
          "name": "stdout",
          "text": [
            "['red', 'green', 'blue']\n"
          ]
        }
      ]
    },
    {
      "cell_type": "markdown",
      "source": [
        "## Task 4: count()"
      ],
      "metadata": {
        "id": "2jnXboAerQUf"
      }
    },
    {
      "cell_type": "code",
      "source": [
        "numbers = [1, 2, 2, 3, 2]\n",
        "print(numbers.count(2))\n"
      ],
      "metadata": {
        "colab": {
          "base_uri": "https://localhost:8080/"
        },
        "id": "yUyuZpkbtWSv",
        "outputId": "c82d2c96-72f2-465d-f62b-b326518e2193"
      },
      "execution_count": 5,
      "outputs": [
        {
          "output_type": "stream",
          "name": "stdout",
          "text": [
            "3\n"
          ]
        }
      ]
    },
    {
      "cell_type": "markdown",
      "source": [
        "## Task 5: extend()"
      ],
      "metadata": {
        "id": "DnjsP5JkrmLI"
      }
    },
    {
      "cell_type": "code",
      "source": [
        "list1 = [1, 2]\n",
        "list2 = [3, 4]\n",
        "list1.extend(list2)\n",
        "print(list1)\n"
      ],
      "metadata": {
        "colab": {
          "base_uri": "https://localhost:8080/"
        },
        "id": "M69NXS8RtY45",
        "outputId": "83427987-bb23-447d-b4d4-c90b67e76eb5"
      },
      "execution_count": 6,
      "outputs": [
        {
          "output_type": "stream",
          "name": "stdout",
          "text": [
            "[1, 2, 3, 4]\n"
          ]
        }
      ]
    },
    {
      "cell_type": "markdown",
      "source": [
        "## Task 6: index()"
      ],
      "metadata": {
        "id": "xVWPM_mgrowT"
      }
    },
    {
      "cell_type": "code",
      "source": [
        "names = [\"Ali\", \"Abrar\", \"Usman\"]\n",
        "print(names.index(\"Abrar\"))\n"
      ],
      "metadata": {
        "colab": {
          "base_uri": "https://localhost:8080/"
        },
        "id": "Cu4BmLf5tdDK",
        "outputId": "80747b00-30d6-4274-cc1e-76c35b5f79b1"
      },
      "execution_count": 9,
      "outputs": [
        {
          "output_type": "stream",
          "name": "stdout",
          "text": [
            "1\n"
          ]
        }
      ]
    },
    {
      "cell_type": "markdown",
      "source": [
        "## Task 7: insert()"
      ],
      "metadata": {
        "id": "nHtyhVyersmi"
      }
    },
    {
      "cell_type": "code",
      "source": [
        "names = [\"Ali\", \"Abrar\", \"Usman\"]\n",
        "names.insert(1, \"Karim\")\n",
        "print(names)\n"
      ],
      "metadata": {
        "colab": {
          "base_uri": "https://localhost:8080/"
        },
        "id": "QeqV3R4etcvG",
        "outputId": "1387949d-586d-45a2-f916-0177d83b27c0"
      },
      "execution_count": 10,
      "outputs": [
        {
          "output_type": "stream",
          "name": "stdout",
          "text": [
            "['Ali', 'Karim', 'Abrar', 'Usman']\n"
          ]
        }
      ]
    },
    {
      "cell_type": "markdown",
      "source": [
        "## Task 8: pop()"
      ],
      "metadata": {
        "id": "Ms_QkaaLsqxW"
      }
    },
    {
      "cell_type": "code",
      "source": [
        "names = [\"Ali\", \"Abrar\", \"Usman\"]\n",
        "names.pop(2)\n",
        "print(names)\n"
      ],
      "metadata": {
        "colab": {
          "base_uri": "https://localhost:8080/"
        },
        "id": "DlGuzuOvtcbR",
        "outputId": "ceef6b32-23ad-4d26-87da-0c76b8029c5d"
      },
      "execution_count": 11,
      "outputs": [
        {
          "output_type": "stream",
          "name": "stdout",
          "text": [
            "['Ali', 'Abrar']\n"
          ]
        }
      ]
    },
    {
      "cell_type": "markdown",
      "source": [
        "## Task 9: remove()"
      ],
      "metadata": {
        "id": "8AYFDi_bstAn"
      }
    },
    {
      "cell_type": "code",
      "source": [
        "names = [\"Ali\", \"Abrar\", \"Usman\"]\n",
        "names.remove(\"Usman\")\n",
        "print(names)\n"
      ],
      "metadata": {
        "colab": {
          "base_uri": "https://localhost:8080/"
        },
        "id": "u_8IIENxtcI3",
        "outputId": "81b93344-287c-4c52-b60c-d5461ab50a60"
      },
      "execution_count": 13,
      "outputs": [
        {
          "output_type": "stream",
          "name": "stdout",
          "text": [
            "['Ali', 'Abrar']\n"
          ]
        }
      ]
    },
    {
      "cell_type": "markdown",
      "source": [
        "## Task 10: reverse()"
      ],
      "metadata": {
        "id": "2CNLsE-QswAe"
      }
    },
    {
      "cell_type": "code",
      "source": [
        "names = [\"Ali\", \"Abrar\", \"Usman\"]\n",
        "names.reverse()\n",
        "print(names)\n"
      ],
      "metadata": {
        "colab": {
          "base_uri": "https://localhost:8080/"
        },
        "id": "qc2PvrvltbxP",
        "outputId": "a25afaa2-34c2-4309-9a84-fa48a5436088"
      },
      "execution_count": 14,
      "outputs": [
        {
          "output_type": "stream",
          "name": "stdout",
          "text": [
            "['Usman', 'Abrar', 'Ali']\n"
          ]
        }
      ]
    },
    {
      "cell_type": "markdown",
      "source": [
        "## Task 11: sort()"
      ],
      "metadata": {
        "id": "amMI67Bxszue"
      }
    },
    {
      "cell_type": "code",
      "source": [
        "names = [\"Ali\", \"Abrar\", \"Usman\"]\n",
        "marks = [88, 75, 92, 60]\n",
        "marks.sort()\n",
        "print(marks)\n"
      ],
      "metadata": {
        "colab": {
          "base_uri": "https://localhost:8080/"
        },
        "id": "LEQpWvgvtbcg",
        "outputId": "0ec7d871-9860-4ad6-a8e6-f5a920e84ef6"
      },
      "execution_count": 15,
      "outputs": [
        {
          "output_type": "stream",
          "name": "stdout",
          "text": [
            "[60, 75, 88, 92]\n"
          ]
        }
      ]
    }
  ]
}