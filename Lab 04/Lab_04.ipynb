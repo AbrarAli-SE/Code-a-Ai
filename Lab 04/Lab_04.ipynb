{
  "cells": [
    {
      "cell_type": "markdown",
      "metadata": {
        "colab_type": "text",
        "id": "view-in-github"
      },
      "source": [
        "<a href=\"https://colab.research.google.com/github/AbrarAli-SE/Code-a-Ai/blob/main/Lab_04.ipynb\" target=\"_parent\"><img src=\"https://colab.research.google.com/assets/colab-badge.svg\" alt=\"Open In Colab\"/></a>"
      ]
    },
    {
      "cell_type": "markdown",
      "metadata": {
        "id": "NZSeGkKkI1ci"
      },
      "source": [
        "# Name: **Abrar Ali**\n",
        "# SAP ID: **55843**\n",
        "# lab 04"
      ]
    },
    {
      "cell_type": "markdown",
      "metadata": {
        "id": "yT32bBwyI5U-"
      },
      "source": [
        "## Task 1: Create NumPy array, split into 3 arrays, then calculate sum of all arrays\n"
      ]
    },
    {
      "cell_type": "code",
      "execution_count": 1,
      "metadata": {
        "colab": {
          "base_uri": "https://localhost:8080/"
        },
        "id": "Td-A_E7UJBKS",
        "outputId": "c3a071f4-b52d-427c-8099-5c916ac8b92f"
      },
      "outputs": [
        {
          "name": "stdout",
          "output_type": "stream",
          "text": [
            "Split arrays: [array([1, 2, 3]), array([4, 5, 6]), array([7, 8, 9])]\n",
            "Total sum: 45\n"
          ]
        }
      ],
      "source": [
        "import numpy as np\n",
        "arr = np.array([1, 2, 3, 4, 5, 6, 7, 8, 9])\n",
        "\n",
        "split_arr = np.array_split(arr, 3)\n",
        "\n",
        "total_sum = sum(np.sum(sub_arr) for sub_arr in split_arr)\n",
        "\n",
        "print(\"Split arrays:\", split_arr)\n",
        "print(\"Total sum:\", total_sum)"
      ]
    },
    {
      "cell_type": "markdown",
      "metadata": {
        "id": "jTO1wzesJFi2"
      },
      "source": [
        "## Task 2: Extract all numbers >5 and <15 from NumPy array"
      ]
    },
    {
      "cell_type": "code",
      "execution_count": 2,
      "metadata": {
        "colab": {
          "base_uri": "https://localhost:8080/"
        },
        "id": "sg5u_SXFI_x1",
        "outputId": "97ea24ac-3a53-4f19-fca7-5cd6dcbe8f17"
      },
      "outputs": [
        {
          "name": "stdout",
          "output_type": "stream",
          "text": [
            "Filtered numbers: [ 6  9 13  8]\n"
          ]
        }
      ],
      "source": [
        "import numpy as np\n",
        "\n",
        "arr = np.array([2, 6, 9, 15, 20, 13, 4, 8])\n",
        "\n",
        "filtered = arr[(arr > 5) & (arr < 15)]\n",
        "\n",
        "print(\"Filtered numbers:\", filtered)"
      ]
    },
    {
      "cell_type": "markdown",
      "metadata": {
        "id": "ZlMZzi7SJM0u"
      },
      "source": [
        "## Task 3: Set operations"
      ]
    },
    {
      "cell_type": "code",
      "execution_count": 3,
      "metadata": {
        "colab": {
          "base_uri": "https://localhost:8080/"
        },
        "id": "1q3VC0zOJRmg",
        "outputId": "baba7612-7a6d-494e-87d0-118850285815"
      },
      "outputs": [
        {
          "name": "stdout",
          "output_type": "stream",
          "text": [
            "Set1: {0, 2, 4, 6, 8, 10}\n",
            "Modified Set2: {1, 3, 4, 5, 7, 8, 9, 10}\n",
            "Set3 (intersection): {8, 10, 4}\n"
          ]
        }
      ],
      "source": [
        "set1 = {0, 2, 4, 6, 8, 10}\n",
        "set2 = set([1, 2, 3, 4, 5, 6, 7, 8, 9, 10])\n",
        "\n",
        "set2_list = list(set2)\n",
        "set2_list.pop(1)\n",
        "set2_list.pop(4)\n",
        "set2 = set(set2_list)\n",
        "\n",
        "set3 = set1.intersection(set2)\n",
        "\n",
        "print(\"Set1:\", set1)\n",
        "print(\"Modified Set2:\", set2)\n",
        "print(\"Set3 (intersection):\", set3)"
      ]
    },
    {
      "cell_type": "markdown",
      "metadata": {},
      "source": []
    },
    {
      "cell_type": "markdown",
      "metadata": {
        "id": "0hoeaFOAJVcW"
      },
      "source": [
        "## Task 4: Dictionary of students and update semester"
      ]
    },
    {
      "cell_type": "code",
      "execution_count": 4,
      "metadata": {
        "colab": {
          "base_uri": "https://localhost:8080/"
        },
        "id": "B3eQ2lgKJaK8",
        "outputId": "243f41b2-c889-403c-8be6-530bd761af8a"
      },
      "outputs": [
        {
          "name": "stdout",
          "output_type": "stream",
          "text": [
            "Updated student records:\n",
            "SAP001 : {'sapid': 'SAP001', 'name': 'Ali', 'age': 20, 'semester': 'Seven'}\n",
            "SAP002 : {'sapid': 'SAP002', 'name': 'Sara', 'age': 21, 'semester': 'Seven'}\n",
            "SAP003 : {'sapid': 'SAP003', 'name': 'Zain', 'age': 22, 'semester': 'Seven'}\n",
            "SAP004 : {'sapid': 'SAP004', 'name': 'Hira', 'age': 23, 'semester': 'Seven'}\n",
            "SAP005 : {'sapid': 'SAP005', 'name': 'Usman', 'age': 24, 'semester': 'Seven'}\n"
          ]
        }
      ],
      "source": [
        "students = {\n",
        "    \"SAP001\": {\"sapid\": \"SAP001\", \"name\": \"Ali\", \"age\": 20, \"semester\": \"Six\"},\n",
        "    \"SAP002\": {\"sapid\": \"SAP002\", \"name\": \"Sara\", \"age\": 21, \"semester\": \"Six\"},\n",
        "    \"SAP003\": {\"sapid\": \"SAP003\", \"name\": \"Zain\", \"age\": 22, \"semester\": \"Six\"},\n",
        "    \"SAP004\": {\"sapid\": \"SAP004\", \"name\": \"Hira\", \"age\": 23, \"semester\": \"Six\"},\n",
        "    \"SAP005\": {\"sapid\": \"SAP005\", \"name\": \"Usman\", \"age\": 24, \"semester\": \"Six\"},\n",
        "}\n",
        "\n",
        "for student in students.values():\n",
        "    student[\"semester\"] = \"Seven\"\n",
        "\n",
        "print(\"Updated student records:\")\n",
        "for sapid, record in students.items():\n",
        "    print(sapid, \":\", record)"
      ]
    },
    {
      "cell_type": "markdown",
      "metadata": {
        "id": "gPlyi_FeJAR3"
      },
      "source": []
    }
  ],
  "metadata": {
    "accelerator": "GPU",
    "colab": {
      "authorship_tag": "ABX9TyOAZMS+9UGdPxa4x9LxgfIg",
      "gpuType": "T4",
      "include_colab_link": true,
      "provenance": []
    },
    "kernelspec": {
      "display_name": "Python 3",
      "name": "python3"
    },
    "language_info": {
      "name": "python"
    }
  },
  "nbformat": 4,
  "nbformat_minor": 0
}
