{
  "nbformat": 4,
  "nbformat_minor": 0,
  "metadata": {
    "colab": {
      "provenance": [],
      "gpuType": "T4",
      "authorship_tag": "ABX9TyOGIX1nMCoDq0SCYX3SUGq7",
      "include_colab_link": true
    },
    "kernelspec": {
      "name": "python3",
      "display_name": "Python 3"
    },
    "language_info": {
      "name": "python"
    },
    "accelerator": "GPU"
  },
  "cells": [
    {
      "cell_type": "markdown",
      "metadata": {
        "id": "view-in-github",
        "colab_type": "text"
      },
      "source": [
        "<a href=\"https://colab.research.google.com/github/AbrarAli-SE/Code-a-Ai/blob/main/Lab_01.ipynb\" target=\"_parent\"><img src=\"https://colab.research.google.com/assets/colab-badge.svg\" alt=\"Open In Colab\"/></a>"
      ]
    },
    {
      "cell_type": "markdown",
      "source": [
        "# Name: **Abrar Ali**\n",
        "# SAP ID: **55843**\n"
      ],
      "metadata": {
        "id": "hX8UP8OjSL62"
      }
    },
    {
      "cell_type": "markdown",
      "source": [
        "## Arithmetic Operators"
      ],
      "metadata": {
        "id": "q-DVHAHKSeyA"
      }
    },
    {
      "cell_type": "markdown",
      "source": [],
      "metadata": {
        "id": "ZzXCBSJrSckP"
      }
    },
    {
      "cell_type": "code",
      "execution_count": null,
      "metadata": {
        "colab": {
          "base_uri": "https://localhost:8080/"
        },
        "id": "wVs9DQXvEBW0",
        "outputId": "b1cad07a-816f-4422-b9fe-f5cd14e35a65"
      },
      "outputs": [
        {
          "output_type": "stream",
          "name": "stdout",
          "text": [
            "Addition: 13\n",
            "Subtraction: 7\n",
            "Multiplication: 30\n",
            "Division: 3.3333333333333335\n",
            "Modulus: 1\n",
            "Exponent: 1000\n"
          ]
        }
      ],
      "source": [
        "a = 10\n",
        "b = 3\n",
        "\n",
        "print(\"Addition:\", a + b)\n",
        "print(\"Subtraction:\", a - b)\n",
        "print(\"Multiplication:\", a * b)\n",
        "print(\"Division:\", a / b)\n",
        "print(\"Modulus:\", a % b)\n",
        "print(\"Exponent:\", a ** b)"
      ]
    },
    {
      "cell_type": "markdown",
      "source": [
        "## Assignment Operators"
      ],
      "metadata": {
        "id": "H-qjYsOPSnXe"
      }
    },
    {
      "cell_type": "code",
      "source": [
        "x = 5\n",
        "print(\"Initial x:\", x)\n",
        "\n",
        "x += 2\n",
        "print(\"After x += 2:\", x)\n",
        "\n",
        "x -= 1\n",
        "print(\"After x -= 1:\", x)\n",
        "\n",
        "x *= 3\n",
        "print(\"After x *= 3:\", x)\n",
        "\n",
        "x /= 2\n",
        "print(\"After x /= 2:\", x)\n",
        "\n",
        "x %= 4\n",
        "print(\"After x %= 4:\", x)\n",
        "\n",
        "x **= 2\n",
        "print(\"After x **= 2:\", x)\n",
        "\n",
        "x //= 3\n",
        "print(\"After x //= 3:\", x)\n",
        "\n",
        "print(\"Final value of x:\", x)"
      ],
      "metadata": {
        "colab": {
          "base_uri": "https://localhost:8080/"
        },
        "id": "_yMOTj5ISt2N",
        "outputId": "18b99654-419d-42f3-d44c-100c6a019313"
      },
      "execution_count": 17,
      "outputs": [
        {
          "output_type": "stream",
          "name": "stdout",
          "text": [
            "Initial x: 5\n",
            "After x += 2: 7\n",
            "After x -= 1: 6\n",
            "After x *= 3: 18\n",
            "After x /= 2: 9.0\n",
            "After x %= 4: 1.0\n",
            "After x **= 2: 1.0\n",
            "After x //= 3: 0.0\n",
            "Final value of x: 0.0\n"
          ]
        }
      ]
    },
    {
      "cell_type": "markdown",
      "source": [
        "## Comparison Operators"
      ],
      "metadata": {
        "id": "J4MUlnzlS2ee"
      }
    },
    {
      "cell_type": "code",
      "source": [
        "m = 7\n",
        "n = 10\n",
        "\n",
        "print(\"Equal:\", m == n)\n",
        "print(\"Not Equal:\", m != n)\n",
        "print(\"Greater Than:\", m > n)\n",
        "print(\"Less Than:\", m < n)\n",
        "print(\"Greater or Equal:\", m >= n)\n",
        "print(\"Less or Equal:\", m <= n)"
      ],
      "metadata": {
        "colab": {
          "base_uri": "https://localhost:8080/"
        },
        "id": "9r2IYVtXTDlG",
        "outputId": "2baf9bad-4abc-4416-c61e-07ed767bde4d"
      },
      "execution_count": 18,
      "outputs": [
        {
          "output_type": "stream",
          "name": "stdout",
          "text": [
            "Equal: False\n",
            "Not Equal: True\n",
            "Greater Than: False\n",
            "Less Than: True\n",
            "Greater or Equal: False\n",
            "Less or Equal: True\n"
          ]
        }
      ]
    },
    {
      "cell_type": "markdown",
      "source": [
        "## Logical Operators"
      ],
      "metadata": {
        "id": "ThhA2-I_TIju"
      }
    },
    {
      "cell_type": "code",
      "source": [
        "p = True\n",
        "q = False\n",
        "\n",
        "print(\"AND:\", p and q)\n",
        "print(\"OR:\", p or q)\n",
        "print(\"NOT p:\", not p)"
      ],
      "metadata": {
        "colab": {
          "base_uri": "https://localhost:8080/"
        },
        "id": "Jy4sobmJTSbA",
        "outputId": "6114f044-fade-44d9-e35d-97721d6ba8fb"
      },
      "execution_count": 19,
      "outputs": [
        {
          "output_type": "stream",
          "name": "stdout",
          "text": [
            "AND: False\n",
            "OR: True\n",
            "NOT p: False\n"
          ]
        }
      ]
    }
  ]
}