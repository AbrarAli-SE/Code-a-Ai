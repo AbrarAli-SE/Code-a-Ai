{
  "nbformat": 4,
  "nbformat_minor": 0,
  "metadata": {
    "colab": {
      "provenance": [],
      "authorship_tag": "ABX9TyOIcWTpcZj/bkFCFFAA0S7t",
      "include_colab_link": true
    },
    "kernelspec": {
      "name": "python3",
      "display_name": "Python 3"
    },
    "language_info": {
      "name": "python"
    }
  },
  "cells": [
    {
      "cell_type": "markdown",
      "metadata": {
        "id": "view-in-github",
        "colab_type": "text"
      },
      "source": [
        "<a href=\"https://colab.research.google.com/github/AbrarAli-SE/Code-a-Ai/blob/main/Lab_03.ipynb\" target=\"_parent\"><img src=\"https://colab.research.google.com/assets/colab-badge.svg\" alt=\"Open In Colab\"/></a>"
      ]
    },
    {
      "cell_type": "markdown",
      "source": [
        "# Name: **Abrar Ali**\n",
        "# SAP ID: **55843**"
      ],
      "metadata": {
        "id": "079mqvbeJPvr"
      }
    },
    {
      "cell_type": "markdown",
      "source": [],
      "metadata": {
        "id": "QEgOGqxFIuEE"
      }
    },
    {
      "cell_type": "code",
      "source": [
        "import numpy as np\n",
        "\n",
        "matrix = np.arange(2, 11).reshape(3, 3)\n",
        "\n",
        "float_matrix = matrix.astype(float)\n",
        "\n",
        "flattened = float_matrix.flatten()\n",
        "max_val = np.max(flattened)\n",
        "min_val = np.min(flattened)\n",
        "\n",
        "print(\"Original Matrix:\\n\", float_matrix)\n",
        "print(\"Flattened Array:\", flattened)\n",
        "print(\"Maximum Value:\", max_val)\n",
        "print(\"Minimum Value:\", min_val)\n"
      ],
      "metadata": {
        "colab": {
          "base_uri": "https://localhost:8080/"
        },
        "id": "QTU6smLsIuS7",
        "outputId": "51541466-1c54-41d3-9178-6c0f6c933f86"
      },
      "execution_count": 2,
      "outputs": [
        {
          "output_type": "stream",
          "name": "stdout",
          "text": [
            "Original Matrix:\n",
            " [[ 2.  3.  4.]\n",
            " [ 5.  6.  7.]\n",
            " [ 8.  9. 10.]]\n",
            "Flattened Array: [ 2.  3.  4.  5.  6.  7.  8.  9. 10.]\n",
            "Maximum Value: 10.0\n",
            "Minimum Value: 2.0\n"
          ]
        }
      ]
    }
  ]
}