{
  "nbformat": 4,
  "nbformat_minor": 0,
  "metadata": {
    "colab": {
      "provenance": [],
      "authorship_tag": "ABX9TyMtc3KMik6gHbICmXteSHMX",
      "include_colab_link": true
    },
    "kernelspec": {
      "name": "python3",
      "display_name": "Python 3"
    },
    "language_info": {
      "name": "python"
    }
  },
  "cells": [
    {
      "cell_type": "markdown",
      "metadata": {
        "id": "view-in-github",
        "colab_type": "text"
      },
      "source": [
        "<a href=\"https://colab.research.google.com/github/AbrarAli-SE/Code-a-Ai/blob/main/Lab_06.ipynb\" target=\"_parent\"><img src=\"https://colab.research.google.com/assets/colab-badge.svg\" alt=\"Open In Colab\"/></a>"
      ]
    },
    {
      "cell_type": "markdown",
      "source": [
        "# Name: **Abrar Ali**\n",
        "# SAP ID: **55843**\n",
        "# lab 06"
      ],
      "metadata": {
        "id": "bCIBJ6PKi5QB"
      }
    },
    {
      "cell_type": "markdown",
      "source": [
        "## Task 01"
      ],
      "metadata": {
        "id": "BH0BIuk3i8Fn"
      }
    },
    {
      "cell_type": "code",
      "execution_count": null,
      "metadata": {
        "colab": {
          "base_uri": "https://localhost:8080/"
        },
        "id": "6_OkDaCMh25_",
        "outputId": "b8e9ee99-902b-49bf-86b8-6e62fb752cc4"
      },
      "outputs": [
        {
          "output_type": "stream",
          "name": "stdout",
          "text": [
            "🔹 ORIGINAL CONFIGURATION\n",
            "Puzzle State:\n",
            "[[2 8 3]\n",
            " [1 6 4]\n",
            " [7 0 5]]\n",
            "Goal State:\n",
            "[[1 2 3]\n",
            " [8 0 4]\n",
            " [7 6 5]]\n",
            "Misplaced Tiles Heuristic: 4\n",
            "\n",
            "🔸 UPDATED CONFIGURATION\n",
            "Puzzle State:\n",
            "[[1 2 3]\n",
            " [4 0 6]\n",
            " [7 5 8]]\n",
            "Goal State:\n",
            "[[1 2 3]\n",
            " [4 5 6]\n",
            " [7 8 0]]\n",
            "Misplaced Tiles Heuristic: 2\n",
            "\n"
          ]
        },
        {
          "output_type": "execute_result",
          "data": {
            "text/plain": [
              "2"
            ]
          },
          "metadata": {},
          "execution_count": 1
        }
      ],
      "source": [
        "import numpy as np\n",
        "\n",
        "# 🔧 Converts puzzle list to coordinate form\n",
        "def coordinates(puzzle):\n",
        "    return {val: (i // 3, i % 3) for i, val in enumerate(puzzle)}\n",
        "\n",
        "# 🧠 Heuristic: Misplaced Tiles\n",
        "def misplaced_tiles(current_coords, goal_coords):\n",
        "    return sum(1 for tile in current_coords if tile != 0 and current_coords[tile] != goal_coords[tile])\n",
        "\n",
        "# 🚀 A* Evaluation Function (Simplified for Misplaced Tile Count)\n",
        "def evaluate_misplaced(puzzle, goal):\n",
        "    current_coords = coordinates(puzzle)\n",
        "    goal_coords = coordinates(goal)\n",
        "    misplaced = misplaced_tiles(current_coords, goal_coords)\n",
        "    print(\"Puzzle State:\")\n",
        "    print(np.array(puzzle).reshape(3, 3))\n",
        "    print(\"Goal State:\")\n",
        "    print(np.array(goal).reshape(3, 3))\n",
        "    print(f\"Misplaced Tiles Heuristic: {misplaced}\\n\")\n",
        "    return misplaced\n",
        "\n",
        "# ------------------ 🔹 ORIGINAL VALUES ------------------\n",
        "print(\"🔹 ORIGINAL CONFIGURATION\")\n",
        "original_puzzle = [2, 8, 3,\n",
        "                   1, 6, 4,\n",
        "                   7, 0, 5]\n",
        "\n",
        "original_goal = [1, 2, 3,\n",
        "                 8, 0, 4,\n",
        "                 7, 6, 5]\n",
        "\n",
        "evaluate_misplaced(original_puzzle, original_goal)\n",
        "\n",
        "# ------------------ 🔸 UPDATED VALUES ------------------\n",
        "print(\"🔸 UPDATED CONFIGURATION\")\n",
        "updated_puzzle = [1, 2, 3,\n",
        "                  4, 0, 6,\n",
        "                  7, 5, 8]\n",
        "\n",
        "updated_goal = [1, 2, 3,\n",
        "                4, 5, 6,\n",
        "                7, 8, 0]\n",
        "\n",
        "evaluate_misplaced(updated_puzzle, updated_goal)"
      ]
    },
    {
      "cell_type": "markdown",
      "source": [
        "## 🔍 A* Search Heuristic Analysis – Misplaced Tiles\n",
        "\n",
        "This code demonstrates the use of the **Misplaced Tiles heuristic** to evaluate how far a given puzzle configuration is from its goal state. It is a simplified version of the A* search algorithm, focusing only on the heuristic calculation.\n",
        "\n",
        "### 🧠 Heuristic Used\n",
        "- **Misplaced Tiles**: Counts how many tiles are not in their correct position compared to the goal.\n",
        "- This heuristic is admissible and easy to compute, making it suitable for basic puzzle-solving strategies.\n",
        "\n",
        "### 🔹 Original Configuration\n",
        "- **Initial Puzzle**: `[2, 8, 3, 1, 6, 4, 7, 0, 5]`\n",
        "- **Goal State**: `[1, 2, 3, 8, 0, 4, 7, 6, 5]`\n",
        "- **Misplaced Tiles**: The output shows how many tiles are incorrectly placed, helping estimate the cost to reach the goal.\n",
        "\n",
        "### 🔸 Updated Configuration\n",
        "- **Initial Puzzle**: `[1, 2, 3, 4, 0, 6, 7, 5, 8]`\n",
        "- **Goal State**: `[1, 2, 3, 4, 5, 6, 7, 8, 0]`\n",
        "- This configuration is closer to the goal, and the heuristic reflects that with a lower misplaced tile count.\n",
        "\n",
        "### ✅ Purpose\n",
        "- This evaluation helps us understand how the heuristic behaves with different puzzle states.\n",
        "- It lays the foundation for implementing full A* search, where this heuristic would guide the selection of the next best move.\n"
      ],
      "metadata": {
        "id": "G6v6_zXejNGZ"
      }
    },
    {
      "cell_type": "markdown",
      "source": [
        "## Task 02"
      ],
      "metadata": {
        "id": "GkxkCMJjjVm4"
      }
    },
    {
      "cell_type": "code",
      "source": [
        "import heapq\n",
        "\n",
        "# 🧠 Heuristic: Manhattan Distance\n",
        "def heuristic(a, b):\n",
        "    return abs(a[0] - b[0]) + abs(a[1] - b[1])\n",
        "\n",
        "# 🚀 A* Search Algorithm\n",
        "def astar(grid, start, goal):\n",
        "    rows, cols = len(grid), len(grid[0])\n",
        "    open_set = []\n",
        "    heapq.heappush(open_set, (0, start))\n",
        "    came_from = {}\n",
        "    g_score = {start: 0}\n",
        "\n",
        "    while open_set:\n",
        "        _, current = heapq.heappop(open_set)\n",
        "\n",
        "        if current == goal:\n",
        "            path = []\n",
        "            while current in came_from:\n",
        "                path.append(current)\n",
        "                current = came_from[current]\n",
        "            path.append(start)\n",
        "            return path[::-1]\n",
        "\n",
        "        for dx, dy in [(0,1), (1,0), (0,-1), (-1,0)]:\n",
        "            neighbor = (current[0]+dx, current[1]+dy)\n",
        "            if 0 <= neighbor[0] < rows and 0 <= neighbor[1] < cols:\n",
        "                if grid[neighbor[0]][neighbor[1]] == 1:  # obstacle\n",
        "                    continue\n",
        "                tentative_g = g_score[current] + 1\n",
        "                if neighbor not in g_score or tentative_g < g_score[neighbor]:\n",
        "                    g_score[neighbor] = tentative_g\n",
        "                    f_score = tentative_g + heuristic(neighbor, goal)\n",
        "                    heapq.heappush(open_set, (f_score, neighbor))\n",
        "                    came_from[neighbor] = current\n",
        "    return None\n",
        "\n",
        "# 🧪 Sample Grid and Execution\n",
        "grid = [\n",
        "    [0, 0, 0, 0],\n",
        "    [1, 1, 0, 1],\n",
        "    [0, 0, 0, 0],\n",
        "    [0, 1, 1, 0]\n",
        "]\n",
        "\n",
        "start = (0, 0)\n",
        "goal = (3, 3)\n",
        "\n",
        "path = astar(grid, start, goal)\n",
        "print(\"Shortest Path:\", path)"
      ],
      "metadata": {
        "colab": {
          "base_uri": "https://localhost:8080/"
        },
        "id": "d0Mhy867jdii",
        "outputId": "efbe9eae-5c08-42b3-9481-e5a20464d2cd"
      },
      "execution_count": 5,
      "outputs": [
        {
          "output_type": "stream",
          "name": "stdout",
          "text": [
            "Shortest Path: [(0, 0), (0, 1), (0, 2), (1, 2), (2, 2), (2, 3), (3, 3)]\n"
          ]
        }
      ]
    }
  ]
}